{
  "nbformat": 4,
  "nbformat_minor": 0,
  "metadata": {
    "colab": {
      "provenance": []
    },
    "kernelspec": {
      "name": "python3",
      "display_name": "Python 3"
    },
    "language_info": {
      "name": "python"
    }
  },
  "cells": [
    {
      "cell_type": "markdown",
      "source": [
        "Solve Travelling Salesman Problem using simulated annealing"
      ],
      "metadata": {
        "id": "zFZFjdyuq2in"
      }
    },
    {
      "cell_type": "code",
      "source": [
        "import numpy\n",
        "import random\n",
        "\n",
        "def total_distance(route):\n",
        "  \n",
        "\n",
        "def solve(route):\n",
        "  for\n",
        "\n",
        "def generate_random(total_cities):\n",
        "  routes = []\n",
        "  for i in range (total_cities):\n",
        "    routes.append(i)\n",
        "  for i in range(total_cities):\n",
        "    idx=int(random.random()*total_cities)\n",
        "    temp=routes[i]\n",
        "    routes[i] = routes[idx]\n",
        "    routes[idx] = temp\n",
        "  return routes\n",
        "\n",
        "# def main():\n",
        "total_cities = int(input(\"Enter total number of cities\"))\n",
        "print(total_cities)\n",
        "dis= []\n",
        "\n",
        "routes = generate_random(total_cities)\n",
        "\n",
        "print(routes)\n",
        "  # route = np.random.randomstate(4)\n",
        "\n"
      ],
      "metadata": {
        "colab": {
          "base_uri": "https://localhost:8080/"
        },
        "id": "Be6IZat9q_ST",
        "outputId": "62a100f1-0448-48d1-de65-5b47d4d0936c"
      },
      "execution_count": null,
      "outputs": [
        {
          "output_type": "stream",
          "name": "stdout",
          "text": [
            "Enter total number of cities20\n",
            "20\n",
            "[8, 9, 2, 15, 13, 12, 7, 16, 6, 10, 19, 11, 17, 5, 18, 14, 4, 1, 0, 3]\n"
          ]
        }
      ]
    }
  ]
}