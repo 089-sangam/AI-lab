{
  "nbformat": 4,
  "nbformat_minor": 0,
  "metadata": {
    "colab": {
      "provenance": []
    },
    "kernelspec": {
      "name": "python3",
      "display_name": "Python 3"
    },
    "language_info": {
      "name": "python"
    }
  },
  "cells": [
    {
      "cell_type": "markdown",
      "source": [
        "<h1>Water Jug Problem</h1>"
      ],
      "metadata": {
        "id": "fvTscQzpgCcp"
      }
    },
    {
      "cell_type": "markdown",
      "source": [
        "a. A is 4 litre, B is 3 litre and we have to measure 2 litre"
      ],
      "metadata": {
        "id": "8hqPTgYDlEr-"
      }
    },
    {
      "cell_type": "code",
      "source": [
        "import math\n",
        "jug1=4\n",
        "jug2=3\n",
        "d = 2\n",
        "\n",
        "def pour(to_cap, from_cap, d):\n",
        "  tojug=0\n",
        "  fromjug=from_cap\n",
        "  steps=1\n",
        "  while tojug!=d or fromjug!=d:\n",
        "    fill_cap = min(fromjug, to_cap - tojug)\n",
        "    steps+=1\n",
        "    tojug+=fill_cap\n",
        "    fromjug-=fill_cap\n",
        "    if tojug==d or fromjug==d:\n",
        "      return steps\n",
        "    if tojug== to_cap:\n",
        "      tojug=0\n",
        "      steps+=1\n",
        "    if fromjug== 0:\n",
        "      fromjug=from_cap\n",
        "      steps+=1\n",
        "  return steps\n",
        "  \n",
        "if d % math.gcd(jug1,jug2)!=0 or d> max(jug1,jug2):\n",
        "  print(\"can't measure\",d,\"litre from\",jug1,\"and\",jug2)\n",
        "else:\n",
        "  print(\"minimun steps require to measure\",d,\"water litre is = \", min(pour(jug1,jug2,d),pour(jug2,jug1,d)))"
      ],
      "metadata": {
        "colab": {
          "base_uri": "https://localhost:8080/"
        },
        "id": "shqx8exglEDV",
        "outputId": "7b220a37-4e11-4fbb-996b-9298c6ab2ba3"
      },
      "execution_count": null,
      "outputs": [
        {
          "output_type": "stream",
          "name": "stdout",
          "text": [
            "minimun steps require to measure 2 water litre is =  4\n"
          ]
        }
      ]
    },
    {
      "cell_type": "markdown",
      "source": [
        "b. A is N litre, b is M litre and we have to measure x litre"
      ],
      "metadata": {
        "id": "IhbfxOdjkyvG"
      }
    },
    {
      "cell_type": "code",
      "source": [
        "import math\n",
        "jug1=int(input(\"Enter capacity of jug1: \"))\n",
        "jug2=int(input(\"Enter capacity of jug2: \"))\n",
        "d = int(input(\"Enter how much to measure: \"))\n",
        "\n",
        "def pour(to_cap, from_cap, d):\n",
        "  tojug=0\n",
        "  fromjug=from_cap\n",
        "  steps=1\n",
        "  while tojug!=d or fromjug!=d:\n",
        "    fill_cap = min(fromjug, to_cap - tojug)\n",
        "    steps+=1\n",
        "    tojug+=fill_cap\n",
        "    fromjug-=fill_cap\n",
        "    if tojug==d or fromjug==d:\n",
        "      return steps\n",
        "    if tojug== to_cap:\n",
        "      tojug=0\n",
        "      steps+=1\n",
        "    if fromjug== 0:\n",
        "      fromjug=from_cap\n",
        "      steps+=1\n",
        "  return steps\n",
        "\n",
        "if d % math.gcd(jug1,jug2)!=0 or d> max(jug1,jug2):\n",
        "  print(\"can't measure\",d,\"litre from\",jug1,\"and\",jug2)\n",
        "else:\n",
        "  print(\"minimun steps require to measure\",d,\"water litre is = \", min(pour(jug1,jug2,d),pour(jug2,jug1,d)))"
      ],
      "metadata": {
        "colab": {
          "base_uri": "https://localhost:8080/"
        },
        "id": "eJ5dvu9AitJo",
        "outputId": "66911581-c27e-4d28-c3e5-517f01573355"
      },
      "execution_count": null,
      "outputs": [
        {
          "output_type": "stream",
          "name": "stdout",
          "text": [
            "Enter capacity of jug1: 8\n",
            "Enter capacity of jug2: 4\n",
            "Enter how much to measure: 7\n",
            "can't measure 7 litre from 8 and 4\n"
          ]
        }
      ]
    },
    {
      "cell_type": "markdown",
      "source": [
        "**8-PUZZLE PROBLEM**"
      ],
      "metadata": {
        "id": "maoL_d_Ttm_5"
      }
    },
    {
      "cell_type": "code",
      "source": [
        "import copy\n",
        "from heapq import heappush, heappop\n",
        "\n",
        "n = 3\n",
        "\n",
        "# bottom, left, top, right\n",
        "row = [ 1, 0, -1, 0 ]\n",
        "col = [ 0, -1, 0, 1 ]\n",
        "\n",
        "# A class for Priority Queue\n",
        "class priorityQueue:\n",
        "\n",
        "    def __init__(self):\n",
        "        self.heap = []\n",
        "\n",
        "    def push(self, k):\n",
        "        heappush(self.heap, k)\n",
        "\n",
        "    def pop(self):\n",
        "        return heappop(self.heap)\n",
        "\n",
        "    def empty(self):\n",
        "        if not self.heap:\n",
        "            return True\n",
        "        else:\n",
        "            return False\n",
        "\n",
        "# Node structure\n",
        "class node:\n",
        "    def __init__(self, parent, mat, empty_tile_pos,\n",
        "                cost, level):\n",
        "        self.parent = parent\n",
        "        self.mat = mat\n",
        "        self.empty_tile_pos = empty_tile_pos\n",
        "        self.cost = cost\n",
        "        self.level = level\n",
        "\n",
        "    def __lt__(self, nxt):\n",
        "        return self.cost < nxt.cost\n",
        "\n",
        "def calculateCost(mat, final) -> int:\n",
        "    count = 0\n",
        "    for i in range(n):\n",
        "        for j in range(n):\n",
        "            if ((mat[i][j]) and\n",
        "                (mat[i][j] != final[i][j])):\n",
        "                count += 1\n",
        "    return count\n",
        "\n",
        "def newNode(mat, empty_tile_pos, new_empty_tile_pos,level, parent, final) -> node:\n",
        "    new_mat = copy.deepcopy(mat)\n",
        "    x1 = empty_tile_pos[0]\n",
        "    y1 = empty_tile_pos[1]\n",
        "    x2 = new_empty_tile_pos[0]\n",
        "    y2 = new_empty_tile_pos[1]\n",
        "    new_mat[x1][y1], new_mat[x2][y2] = new_mat[x2][y2], new_mat[x1][y1]\n",
        "\n",
        "    cost = calculateCost(new_mat, final)\n",
        "\n",
        "    new_node = node(parent, new_mat, new_empty_tile_pos,\n",
        "                    cost, level)\n",
        "    return new_node\n",
        "\n",
        "def printMatrix(mat):\n",
        "  for i in range(n):\n",
        "    for j in range(n):\n",
        "      print(\"%d \" % (mat[i][j]), end = \" \")\n",
        "    print()\n",
        "\n",
        "def isSafe(x, y):\n",
        "  return x >= 0 and x < n and y >= 0 and y < n\n",
        "\n",
        "def printPath(root):\n",
        "  if root == None:\n",
        "    return\n",
        "\n",
        "  printPath(root.parent)\n",
        "  printMatrix(root.mat)\n",
        "  print()\n",
        "\n",
        "def solve(initial, empty_tile_pos, final):\n",
        "  pq = priorityQueue()\n",
        "\n",
        "  cost = calculateCost(initial, final)\n",
        "  root = node(None, initial,\n",
        "              empty_tile_pos, cost, 0)\n",
        "\n",
        "  pq.push(root)\n",
        "\n",
        "  while not pq.empty():\n",
        "    minimum = pq.pop()\n",
        "    if minimum.cost == 0:\n",
        "      printPath(minimum)\n",
        "      return\n",
        "\n",
        "    # Generate all possible children\n",
        "    for i in range(4):\n",
        "      new_tile_pos = [\n",
        "        minimum.empty_tile_pos[0] + row[i],\n",
        "        minimum.empty_tile_pos[1] + col[i], ]\n",
        "\n",
        "      if isSafe(new_tile_pos[0], new_tile_pos[1]):\n",
        "        # Create a child node\n",
        "        child = newNode(minimum.mat,\n",
        "                        minimum.empty_tile_pos,\n",
        "                        new_tile_pos,\n",
        "                        minimum.level + 1,\n",
        "                        minimum, final,)\n",
        "        pq.push(child)\n",
        "\n",
        "initial =[]\n",
        "print(\"enter initial matrix\")\n",
        "for i in range(3):\n",
        "  a=[]\n",
        "  for j in range (3):\n",
        "    a.append(int(input()))\n",
        "  initial.append(a)\n",
        "\n",
        "final= []\n",
        "print(\"enter final matrix \")\n",
        "for i in range(3):\n",
        "  a=[]\n",
        "  for j in range (3):\n",
        "    a.append(int(input()))\n",
        "  final.append(a)\n",
        "\n",
        "\n",
        "# initial = [ [ 1, 2, 3 ],\n",
        "#             [ 5, 6, 0 ],\n",
        "#             [ 7, 8, 4 ] ]\n",
        "# final = [ [ 1, 2, 3 ],\n",
        "#           [5 , 8, 6],\n",
        "#           [ 0, 7, 4 ] ]\n",
        "\n",
        "empty_tile_pos = []\n",
        "print(\"enter empty posistion \")\n",
        "for i in range (2):\n",
        "  empty_tile_pos.append(int(input()))\n",
        "\n",
        "solve(initial, empty_tile_pos, final)"
      ],
      "metadata": {
        "colab": {
          "base_uri": "https://localhost:8080/"
        },
        "id": "obmb5VnkoUuu",
        "outputId": "bf728ef0-1ec3-4ed0-ae91-2e014ce8b43c"
      },
      "execution_count": null,
      "outputs": [
        {
          "output_type": "stream",
          "name": "stdout",
          "text": [
            "enter initial matrix\n",
            "1\n",
            "2\n",
            "3\n",
            "5\n",
            "6\n",
            "0\n",
            "7\n",
            "8\n",
            "4\n",
            "enter final matrix \n",
            "1\n",
            "2\n",
            "3\n",
            "5\n",
            "8\n",
            "6\n",
            "0\n",
            "7\n",
            "4\n",
            "enter empty posistion \n",
            "1\n",
            "2\n",
            "1  2  3  \n",
            "5  6  0  \n",
            "7  8  4  \n",
            "\n",
            "1  2  3  \n",
            "5  0  6  \n",
            "7  8  4  \n",
            "\n",
            "1  2  3  \n",
            "5  8  6  \n",
            "7  0  4  \n",
            "\n",
            "1  2  3  \n",
            "5  8  6  \n",
            "0  7  4  \n",
            "\n"
          ]
        }
      ]
    }
  ]
}