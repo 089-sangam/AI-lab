{
 "cells": [
  {
   "cell_type": "code",
   "execution_count": 1,
   "metadata": {
    "id": "hT0SGRlBPCyh"
   },
   "outputs": [
    {
     "ename": "SyntaxError",
     "evalue": "invalid non-printable character U+00A0 (868754528.py, line 12)",
     "output_type": "error",
     "traceback": [
      "\u001b[1;36m  Input \u001b[1;32mIn [1]\u001b[1;36m\u001b[0m\n\u001b[1;33m    leftM,leftC,boatPos,rightM,rightC=q.popleft()\u001b[0m\n\u001b[1;37m    ^\u001b[0m\n\u001b[1;31mSyntaxError\u001b[0m\u001b[1;31m:\u001b[0m invalid non-printable character U+00A0\n"
     ]
    }
   ],
   "source": [
    "from collections import deque\n",
    "m=int(input(\"Enter the number of missionaries: \"))\n",
    "c=int(input(\"Enter the number of cannibals:\"))\n",
    "bc=int(input(\"Enter the boat capacity:\"))\n",
    "parent=dict()\n",
    "visited=set()\n",
    "q=deque()\n",
    "# left Missionaries, left Cannibals, boat side(0:left, 1:right),right Missionaries, right Cannibals\n",
    "q.append((m,c,0,0,0))\n",
    "visited.add((m,c,0,0,0))\n",
    "while len(q)>0:\n",
    "    leftM,leftC,boatPos,rightM,rightC=q.popleft()\n",
    "   \n",
    "    if (leftM,leftC,boatPos,rightM,rightC)==(0,0,1,m,c):\n",
    "        break\n",
    "   \n",
    "    # boatPos: left\n",
    "    if boatPos==0:\n",
    "        for num in range(1,bc+1):\n",
    "            for miss in range(0,num+1):\n",
    "                if miss&gt;leftM or num-miss&gt;leftC:\n",
    "                    continue\n",
    "               \n",
    "                lm,lc,rm,rc=leftM-miss,leftC-(num-\n",
    "miss),rightM+miss,rightC+(num-miss)\n",
    "               \n",
    "                # valid move\n",
    "                if (lm==0 or lm&gt;=lc) and (rm==0 or rm&gt;=rc):\n",
    "                    if (lm,lc,1,rm,rc) not in visited:\n",
    "                        q.append((lm,lc,1,rm,rc))\n",
    "                        visited.add((lm,lc,1,rm,rc))"
   ]
  },
  {
   "cell_type": "code",
   "execution_count": null,
   "metadata": {},
   "outputs": [],
   "source": []
  }
 ],
 "metadata": {
  "colab": {
   "provenance": []
  },
  "kernelspec": {
   "display_name": "Python 3 (ipykernel)",
   "language": "python",
   "name": "python3"
  },
  "language_info": {
   "codemirror_mode": {
    "name": "ipython",
    "version": 3
   },
   "file_extension": ".py",
   "mimetype": "text/x-python",
   "name": "python",
   "nbconvert_exporter": "python",
   "pygments_lexer": "ipython3",
   "version": "3.9.12"
  },
  "vscode": {
   "interpreter": {
    "hash": "ad2bdc8ecc057115af97d19610ffacc2b4e99fae6737bb82f5d7fb13d2f2c186"
   }
  }
 },
 "nbformat": 4,
 "nbformat_minor": 1
}
